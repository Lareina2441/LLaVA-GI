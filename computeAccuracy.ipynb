{
 "cells": [
  {
   "cell_type": "code",
   "execution_count": 1,
   "metadata": {},
   "outputs": [],
   "source": [
    "output_path = r'D:\\Github\\LLaVA-GI\\data\\validation\\output_results5minigpt.json'\n",
    "# But this is input file, not output file!!!"
   ]
  },
  {
   "cell_type": "markdown",
   "metadata": {},
   "source": [
    "# ROUGE-1 Recall and ROUGE-1 Precision"
   ]
  },
  {
   "cell_type": "code",
   "execution_count": 2,
   "metadata": {},
   "outputs": [
    {
     "name": "stdout",
     "output_type": "stream",
     "text": [
      "ROUGE-1 Recall: 0.0588\n",
      "ROUGE-1 Precision: 0.0022\n"
     ]
    }
   ],
   "source": [
    "import json\n",
    "from collections import Counter\n",
    "\n",
    "# 文件路径\n",
    "\n",
    "\n",
    "def read_json_file(file_path):\n",
    "    try:\n",
    "        with open(file_path, 'r', encoding='utf-8') as file:\n",
    "            return json.load(file)\n",
    "    except json.JSONDecodeError as e:\n",
    "        print(f\"Error reading JSON file {file_path}: {e}\")\n",
    "        return None\n",
    "\n",
    "def calculate_rouge_1(human_answer, machine_answer):\n",
    "    human_tokens = human_answer.split()\n",
    "    machine_tokens = machine_answer.split()\n",
    "    \n",
    "    human_counter = Counter(human_tokens)\n",
    "    machine_counter = Counter(machine_tokens)\n",
    "    \n",
    "    overlap = sum((human_counter & machine_counter).values())\n",
    "    \n",
    "    recall = overlap / len(human_tokens) if len(human_tokens) > 0 else 0\n",
    "    precision = overlap / len(machine_tokens) if len(machine_tokens) > 0 else 0\n",
    "    \n",
    "    return recall, precision\n",
    "\n",
    "# 读取输出结果文件\n",
    "output_data = read_json_file(output_path)\n",
    "if output_data is None:\n",
    "    raise ValueError(f\"Failed to read output results file: {output_path}\")\n",
    "\n",
    "# 计算 ROUGE-1 Recall 和 Precision\n",
    "total_recall = 0\n",
    "total_precision = 0\n",
    "count = 0\n",
    "\n",
    "for item in output_data:\n",
    "    human_answer = item[\"human_answer\"]\n",
    "    machine_answer = item[\"machine_answer\"]\n",
    "    \n",
    "    recall, precision = calculate_rouge_1(human_answer, machine_answer)\n",
    "    \n",
    "    total_recall += recall\n",
    "    total_precision += precision\n",
    "    count += 1\n",
    "\n",
    "average_recall = total_recall / count if count > 0 else 0\n",
    "average_precision = total_precision / count if count > 0 else 0\n",
    "\n",
    "print(f\"ROUGE-1 Recall: {average_recall:.4f}\")\n",
    "print(f\"ROUGE-1 Precision: {average_precision:.4f}\")"
   ]
  },
  {
   "cell_type": "markdown",
   "metadata": {},
   "source": [
    "# CIDEr (Consensus-based Image Description Evaluation)"
   ]
  },
  {
   "cell_type": "markdown",
   "metadata": {},
   "source": [
    "You need to download cider from https://github.com/tylin/coco-caption\n",
    "\n",
    "I made some change to let the cider_scorer work again (fit python3): chang all xrange to range, and change all iteritems() to items()"
   ]
  },
  {
   "cell_type": "code",
   "execution_count": 3,
   "metadata": {},
   "outputs": [
    {
     "name": "stdout",
     "output_type": "stream",
     "text": [
      "CIDEr Score: 0.0001\n"
     ]
    }
   ],
   "source": [
    "import sys\n",
    "import json\n",
    "from pathlib import Path\n",
    "\n",
    "# 添加模块路径\n",
    "cider_path = Path(r'D:\\Github\\LLaVA-GI\\cider')\n",
    "if cider_path not in sys.path:\n",
    "    sys.path.append(str(cider_path))\n",
    "\n",
    "# 导入 Cider 类\n",
    "from cider import Cider\n",
    "\n",
    "# 文件路径\n",
    "output_path = r'D:\\Github\\LLaVA-GI\\data\\validation\\output_results5minigpt.json'\n",
    "\n",
    "def read_json_file(file_path):\n",
    "    try:\n",
    "        with open(file_path, 'r', encoding='utf-8') as file:\n",
    "            return json.load(file)\n",
    "    except json.JSONDecodeError as e:\n",
    "        print(f\"Error reading JSON file {file_path}: {e}\")\n",
    "        return None\n",
    "\n",
    "# 读取输出结果文件\n",
    "output_data = read_json_file(output_path)\n",
    "if output_data is None:\n",
    "    raise ValueError(f\"Failed to read output results file: {output_path}\")\n",
    "\n",
    "# 准备数据\n",
    "gts = {}\n",
    "res = {}\n",
    "for i, item in enumerate(output_data):\n",
    "    gts[i] = [item[\"human_answer\"]]\n",
    "    res[i] = [item[\"machine_answer\"]]\n",
    "\n",
    "# 计算 CIDEr 分数\n",
    "cider_scorer = Cider()\n",
    "score, scores = cider_scorer.compute_score(gts, res)\n",
    "\n",
    "print(f\"CIDEr Score: {score:.4f}\")"
   ]
  }
 ],
 "metadata": {
  "kernelspec": {
   "display_name": "Python 3",
   "language": "python",
   "name": "python3"
  },
  "language_info": {
   "codemirror_mode": {
    "name": "ipython",
    "version": 3
   },
   "file_extension": ".py",
   "mimetype": "text/x-python",
   "name": "python",
   "nbconvert_exporter": "python",
   "pygments_lexer": "ipython3",
   "version": "3.11.4"
  }
 },
 "nbformat": 4,
 "nbformat_minor": 2
}
